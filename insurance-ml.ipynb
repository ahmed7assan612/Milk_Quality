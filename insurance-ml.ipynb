{
 "cells": [
  {
   "cell_type": "markdown",
   "id": "f88ef57e",
   "metadata": {},
   "source": [
    "# Import Libraries and Load Data "
   ]
  },
  {
   "cell_type": "code",
   "execution_count": 1,
   "id": "db15eb59",
   "metadata": {},
   "outputs": [],
   "source": [
    "import numpy as np\n",
    "import pandas as pd\n",
    "import matplotlib.pyplot as plt\n",
    "import seaborn as sns\n",
    "from sklearn import preprocessing\n",
    "from sklearn.model_selection import train_test_split\n",
    "from sklearn.metrics import classification_report"
   ]
  },
  {
   "cell_type": "code",
   "execution_count": 2,
   "id": "f23bd7eb",
   "metadata": {},
   "outputs": [],
   "source": [
    "data = pd.read_csv(\"C:/Users/HP/OneDrive/Desktop/insurance.csv\")"
   ]
  },
  {
   "cell_type": "code",
   "execution_count": 3,
   "id": "8c4229a2",
   "metadata": {},
   "outputs": [],
   "source": [
    "data.head(5)"
   ]
  },
  {
   "cell_type": "code",
   "execution_count": 4,
   "id": "aeb8a551",
   "metadata": {},
   "outputs": [],
   "source": [
    "data.tail(5)"
   ]
  },
  {
   "cell_type": "code",
   "execution_count": 5,
   "id": "53fe0c8b",
   "metadata": {},
   "outputs": [],
   "source": [
    "data.columns"
   ]
  },
  {
   "cell_type": "code",
   "execution_count": 6,
   "id": "79bf5de4",
   "metadata": {},
   "outputs": [],
   "source": [
    "data.info()"
   ]
  },
  {
   "cell_type": "code",
   "execution_count": 7,
   "id": "90768016",
   "metadata": {
    "scrolled": true
   },
   "outputs": [],
   "source": [
    "data.describe()"
   ]
  },
  {
   "cell_type": "code",
   "execution_count": 8,
   "id": "2f96ab30",
   "metadata": {},
   "outputs": [],
   "source": [
    "data.corr()"
   ]
  },
  {
   "cell_type": "code",
   "execution_count": 9,
   "id": "1bc54866",
   "metadata": {
    "scrolled": true
   },
   "outputs": [],
   "source": [
    "data.shape"
   ]
  },
  {
   "cell_type": "markdown",
   "id": "7f05615f",
   "metadata": {},
   "source": [
    "# Data Cleaning and Visulization"
   ]
  },
  {
   "cell_type": "code",
   "execution_count": 10,
   "id": "cfe44f12",
   "metadata": {},
   "outputs": [],
   "source": [
    "data.isnull().sum()"
   ]
  },
  {
   "cell_type": "code",
   "execution_count": 11,
   "id": "323fdae6",
   "metadata": {},
   "outputs": [],
   "source": [
    "sns.heatmap(data.isnull())"
   ]
  },
  {
   "cell_type": "code",
   "execution_count": 12,
   "id": "200a0294",
   "metadata": {
    "scrolled": true
   },
   "outputs": [],
   "source": [
    "sns.heatmap(data.corr())"
   ]
  },
  {
   "cell_type": "code",
   "execution_count": 13,
   "id": "c18bc7b2",
   "metadata": {},
   "outputs": [],
   "source": [
    "data_corr = data.corr()\n",
    "data_corr.plot(figsize=(20,10))"
   ]
  },
  {
   "cell_type": "code",
   "execution_count": 14,
   "id": "74424033",
   "metadata": {},
   "outputs": [],
   "source": [
    "sns.displot(data['age'])"
   ]
  },
  {
   "cell_type": "code",
   "execution_count": 15,
   "id": "7bc4332e",
   "metadata": {},
   "outputs": [],
   "source": [
    "sns.displot(data['sex'])"
   ]
  },
  {
   "cell_type": "code",
   "execution_count": 16,
   "id": "15349274",
   "metadata": {},
   "outputs": [],
   "source": [
    "data.plot(figsize=(30,30))\n",
    "print(data['age'].value_counts().plot(kind='pie',autopct='%.2f'))"
   ]
  },
  {
   "cell_type": "code",
   "execution_count": 17,
   "id": "b4e16835",
   "metadata": {},
   "outputs": [],
   "source": [
    "data.plot(figsize=(10,10))\n",
    "print(data['children'].value_counts().plot(kind='pie',autopct='%.2f'))"
   ]
  },
  {
   "cell_type": "code",
   "execution_count": 18,
   "id": "3f279791",
   "metadata": {},
   "outputs": [],
   "source": [
    "sns.pairplot(data)"
   ]
  },
  {
   "cell_type": "code",
   "execution_count": 19,
   "id": "c8d7dd88",
   "metadata": {},
   "outputs": [],
   "source": [
    "data.head(9)"
   ]
  },
  {
   "cell_type": "code",
   "execution_count": 20,
   "id": "d0a5b6dd",
   "metadata": {},
   "outputs": [],
   "source": [
    "label_encoder = preprocessing.LabelEncoder()\n",
    "data['sex']= label_encoder.fit_transform(data['sex'])\n",
    "data['sex'].unique()"
   ]
  },
  {
   "cell_type": "code",
   "execution_count": 21,
   "id": "476dc9ac",
   "metadata": {},
   "outputs": [],
   "source": [
    "label_encoder = preprocessing.LabelEncoder()\n",
    "data['smoker']= label_encoder.fit_transform(data['smoker'])\n",
    "data['smoker'].unique()"
   ]
  },
  {
   "cell_type": "code",
   "execution_count": 22,
   "id": "a59f8aa2",
   "metadata": {},
   "outputs": [],
   "source": [
    "label_encoder = preprocessing.LabelEncoder()\n",
    "data['region']= label_encoder.fit_transform(data['region'])\n",
    "data['region'].unique()"
   ]
  },
  {
   "cell_type": "code",
   "execution_count": 23,
   "id": "6ad08e52",
   "metadata": {},
   "outputs": [],
   "source": [
    "data.head(4)"
   ]
  },
  {
   "cell_type": "markdown",
   "id": "f9de843a",
   "metadata": {},
   "source": [
    "# Splitting Data (ML)"
   ]
  },
  {
   "cell_type": "code",
   "execution_count": 24,
   "id": "9c230cd9",
   "metadata": {},
   "outputs": [],
   "source": [
    "df = ['age','children','sex','region','bmi','charges']\n",
    "\n",
    "x = data[df]\n",
    "\n",
    "y = data['smoker']"
   ]
  },
  {
   "cell_type": "code",
   "execution_count": 25,
   "id": "ec69c55c",
   "metadata": {},
   "outputs": [],
   "source": [
    "x_train, x_test , y_train , y_test = train_test_split ( x, y, test_size=0.2)"
   ]
  },
  {
   "cell_type": "code",
   "execution_count": 26,
   "id": "8965ed26",
   "metadata": {},
   "outputs": [],
   "source": [
    "x_train.shape"
   ]
  },
  {
   "cell_type": "code",
   "execution_count": 27,
   "id": "5b1b909e",
   "metadata": {},
   "outputs": [],
   "source": [
    "y_train.shape"
   ]
  },
  {
   "cell_type": "code",
   "execution_count": 28,
   "id": "d67d92b4",
   "metadata": {},
   "outputs": [],
   "source": [
    "x_test.shape"
   ]
  },
  {
   "cell_type": "code",
   "execution_count": 29,
   "id": "4bcf5466",
   "metadata": {},
   "outputs": [],
   "source": [
    "y_test.shape"
   ]
  },
  {
   "cell_type": "markdown",
   "id": "ef0cbc28",
   "metadata": {},
   "source": [
    "### Support Vector Classifier "
   ]
  },
  {
   "cell_type": "code",
   "execution_count": 30,
   "id": "52c09c55",
   "metadata": {},
   "outputs": [],
   "source": [
    "from sklearn.svm import SVC\n",
    "Model = SVC()"
   ]
  },
  {
   "cell_type": "code",
   "execution_count": 31,
   "id": "ed05ae71",
   "metadata": {},
   "outputs": [],
   "source": [
    "Model.fit(x_train,y_train)"
   ]
  },
  {
   "cell_type": "code",
   "execution_count": 32,
   "id": "49c7caa2",
   "metadata": {},
   "outputs": [],
   "source": [
    "print(Model.score(x_train,y_train))"
   ]
  },
  {
   "cell_type": "code",
   "execution_count": 33,
   "id": "0161c925",
   "metadata": {},
   "outputs": [],
   "source": [
    "y_pred = Model.predict(x_test)"
   ]
  },
  {
   "cell_type": "code",
   "execution_count": 34,
   "id": "58dbad6e",
   "metadata": {},
   "outputs": [],
   "source": [
    "print(classification_report(y_test,y_pred))"
   ]
  },
  {
   "cell_type": "markdown",
   "id": "bb3f3fcf",
   "metadata": {},
   "source": [
    "### RandomForest Classifier\n"
   ]
  },
  {
   "cell_type": "code",
   "execution_count": 35,
   "id": "14e50bf0",
   "metadata": {},
   "outputs": [],
   "source": [
    "from sklearn.ensemble import RandomForestClassifier\n",
    "Model = RandomForestClassifier()"
   ]
  },
  {
   "cell_type": "code",
   "execution_count": 36,
   "id": "ac1d82db",
   "metadata": {},
   "outputs": [],
   "source": [
    "Model.fit(x_train,y_train)"
   ]
  },
  {
   "cell_type": "code",
   "execution_count": 37,
   "id": "4b04b431",
   "metadata": {},
   "outputs": [],
   "source": [
    "print(Model.score(x_train,y_train))"
   ]
  },
  {
   "cell_type": "code",
   "execution_count": 38,
   "id": "e454de77",
   "metadata": {},
   "outputs": [],
   "source": [
    "y_pred = Model.predict(x_test)"
   ]
  },
  {
   "cell_type": "code",
   "execution_count": 39,
   "id": "a0b9813b",
   "metadata": {
    "scrolled": true
   },
   "outputs": [],
   "source": [
    "print(classification_report(y_test,y_pred))"
   ]
  },
  {
   "cell_type": "markdown",
   "id": "bd26f8a1",
   "metadata": {},
   "source": [
    "### Decision Tree Classifier "
   ]
  },
  {
   "cell_type": "code",
   "execution_count": 40,
   "id": "56a315da",
   "metadata": {},
   "outputs": [],
   "source": [
    "from sklearn.tree import DecisionTreeClassifier\n",
    "Model = DecisionTreeClassifier()"
   ]
  },
  {
   "cell_type": "code",
   "execution_count": 41,
   "id": "68fe021a",
   "metadata": {},
   "outputs": [],
   "source": [
    "Model.fit(x_train,y_train)"
   ]
  },
  {
   "cell_type": "code",
   "execution_count": 42,
   "id": "450c0365",
   "metadata": {},
   "outputs": [],
   "source": [
    "print(Model.score(x_train,y_train))"
   ]
  },
  {
   "cell_type": "code",
   "execution_count": 43,
   "id": "f716d11c",
   "metadata": {},
   "outputs": [],
   "source": [
    "y_pred = Model.predict(x_test)"
   ]
  },
  {
   "cell_type": "code",
   "execution_count": 44,
   "id": "27e15748",
   "metadata": {},
   "outputs": [],
   "source": [
    "print(classification_report(y_test,y_pred))"
   ]
  },
  {
   "cell_type": "markdown",
   "id": "26230031",
   "metadata": {},
   "source": [
    "### KNeighbors Classifier "
   ]
  },
  {
   "cell_type": "code",
   "execution_count": 45,
   "id": "0d0b5f85",
   "metadata": {},
   "outputs": [],
   "source": [
    "from sklearn.neighbors import KNeighborsClassifier\n",
    "Model = KNeighborsClassifier()"
   ]
  },
  {
   "cell_type": "code",
   "execution_count": 46,
   "id": "67b4db74",
   "metadata": {},
   "outputs": [],
   "source": [
    "Model.fit(x_train,y_train)"
   ]
  },
  {
   "cell_type": "code",
   "execution_count": 47,
   "id": "a1e326e5",
   "metadata": {},
   "outputs": [],
   "source": [
    "print(Model.score(x_train,y_train))"
   ]
  },
  {
   "cell_type": "code",
   "execution_count": 48,
   "id": "9e357499",
   "metadata": {},
   "outputs": [],
   "source": [
    "y_pred = Model.predict(x_test)"
   ]
  },
  {
   "cell_type": "code",
   "execution_count": 49,
   "id": "39911b19",
   "metadata": {},
   "outputs": [],
   "source": [
    "print(classification_report(y_test,y_pred))"
   ]
  },
  {
   "cell_type": "markdown",
   "id": "59c14952",
   "metadata": {},
   "source": [
    "#### Saved Model "
   ]
  },
  {
   "cell_type": "code",
   "execution_count": 51,
   "id": "fc52514a",
   "metadata": {},
   "outputs": [],
   "source": [
    "import pickle\n",
    "\n",
    "pickle_out = open(\"model_insur.pkl\",\"wb\")\n",
    "\n",
    "pickle.dump(KNN, pickle_out)\n",
    "\n",
    "pickle_out.close()\n"
   ]
  },
  {
   "cell_type": "markdown",
   "id": "4ef33ed7",
   "metadata": {},
   "source": [
    "# Thank You !"
   ]
  }
 ],
 "metadata": {
  "kernelspec": {
   "display_name": "Python 3 (ipykernel)",
   "language": "python",
   "name": "python3"
  },
  "language_info": {
   "codemirror_mode": {
    "name": "ipython",
    "version": 3
   },
   "file_extension": ".py",
   "mimetype": "text/x-python",
   "name": "python",
   "nbconvert_exporter": "python",
   "pygments_lexer": "ipython3",
   "version": "3.11.3"
  }
 },
 "nbformat": 4,
 "nbformat_minor": 5
}
