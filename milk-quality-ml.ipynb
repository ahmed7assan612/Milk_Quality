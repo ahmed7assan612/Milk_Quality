{
 "cells": [
  {
   "cell_type": "markdown",
   "id": "d923b15c",
   "metadata": {
    "papermill": {
     "duration": 0.012042,
     "end_time": "2023-09-07T23:15:42.174768",
     "exception": false,
     "start_time": "2023-09-07T23:15:42.162726",
     "status": "completed"
    },
    "tags": []
   },
   "source": [
    "# Import Libraries , Function and Data #"
   ]
  },
  {
   "cell_type": "code",
   "execution_count": 1,
   "id": "12ac0030",
   "metadata": {
    "execution": {
     "iopub.execute_input": "2023-09-07T23:15:42.195604Z",
     "iopub.status.busy": "2023-09-07T23:15:42.194831Z",
     "iopub.status.idle": "2023-09-07T23:15:43.668095Z",
     "shell.execute_reply": "2023-09-07T23:15:43.666955Z"
    },
    "papermill": {
     "duration": 1.486724,
     "end_time": "2023-09-07T23:15:43.670903",
     "exception": false,
     "start_time": "2023-09-07T23:15:42.184179",
     "status": "completed"
    },
    "tags": []
   },
   "outputs": [],
   "source": [
    "import numpy as np\n",
    "import pandas as pd\n",
    "import matplotlib.pyplot as plt\n",
    "import seaborn as sns \n",
    "from sklearn import preprocessing\n",
    "from sklearn.model_selection import train_test_split"
   ]
  },
  {
   "cell_type": "code",
   "execution_count": 2,
   "id": "c51285bc",
   "metadata": {
    "execution": {
     "iopub.execute_input": "2023-09-07T23:15:43.690679Z",
     "iopub.status.busy": "2023-09-07T23:15:43.690324Z",
     "iopub.status.idle": "2023-09-07T23:15:43.709983Z",
     "shell.execute_reply": "2023-09-07T23:15:43.708252Z"
    },
    "papermill": {
     "duration": 0.032515,
     "end_time": "2023-09-07T23:15:43.712622",
     "exception": false,
     "start_time": "2023-09-07T23:15:43.680107",
     "status": "completed"
    },
    "tags": []
   },
   "outputs": [],
   "source": [
    "milk = pd.read_csv(\"C:/hp/python/Projects/Milk Quality/milknew.csv\")"
   ]
  },
  {
   "cell_type": "code",
   "execution_count": 3,
   "id": "6f63a30e",
   "metadata": {
    "execution": {
     "iopub.execute_input": "2023-09-07T23:15:43.733673Z",
     "iopub.status.busy": "2023-09-07T23:15:43.733016Z",
     "iopub.status.idle": "2023-09-07T23:15:43.761616Z",
     "shell.execute_reply": "2023-09-07T23:15:43.760757Z"
    },
    "papermill": {
     "duration": 0.04139,
     "end_time": "2023-09-07T23:15:43.763821",
     "exception": false,
     "start_time": "2023-09-07T23:15:43.722431",
     "status": "completed"
    },
    "tags": []
   },
   "outputs": [
    {
     "data": {
      "text/html": [
       "<div>\n",
       "<style scoped>\n",
       "    .dataframe tbody tr th:only-of-type {\n",
       "        vertical-align: middle;\n",
       "    }\n",
       "\n",
       "    .dataframe tbody tr th {\n",
       "        vertical-align: top;\n",
       "    }\n",
       "\n",
       "    .dataframe thead th {\n",
       "        text-align: right;\n",
       "    }\n",
       "</style>\n",
       "<table border=\"1\" class=\"dataframe\">\n",
       "  <thead>\n",
       "    <tr style=\"text-align: right;\">\n",
       "      <th></th>\n",
       "      <th>pH</th>\n",
       "      <th>Temprature</th>\n",
       "      <th>Taste</th>\n",
       "      <th>Odor</th>\n",
       "      <th>Fat</th>\n",
       "      <th>Turbidity</th>\n",
       "      <th>Colour</th>\n",
       "      <th>Grade</th>\n",
       "    </tr>\n",
       "  </thead>\n",
       "  <tbody>\n",
       "    <tr>\n",
       "      <th>0</th>\n",
       "      <td>6.6</td>\n",
       "      <td>35</td>\n",
       "      <td>1</td>\n",
       "      <td>0</td>\n",
       "      <td>1</td>\n",
       "      <td>0</td>\n",
       "      <td>254</td>\n",
       "      <td>high</td>\n",
       "    </tr>\n",
       "    <tr>\n",
       "      <th>1</th>\n",
       "      <td>6.6</td>\n",
       "      <td>36</td>\n",
       "      <td>0</td>\n",
       "      <td>1</td>\n",
       "      <td>0</td>\n",
       "      <td>1</td>\n",
       "      <td>253</td>\n",
       "      <td>high</td>\n",
       "    </tr>\n",
       "    <tr>\n",
       "      <th>2</th>\n",
       "      <td>8.5</td>\n",
       "      <td>70</td>\n",
       "      <td>1</td>\n",
       "      <td>1</td>\n",
       "      <td>1</td>\n",
       "      <td>1</td>\n",
       "      <td>246</td>\n",
       "      <td>low</td>\n",
       "    </tr>\n",
       "    <tr>\n",
       "      <th>3</th>\n",
       "      <td>9.5</td>\n",
       "      <td>34</td>\n",
       "      <td>1</td>\n",
       "      <td>1</td>\n",
       "      <td>0</td>\n",
       "      <td>1</td>\n",
       "      <td>255</td>\n",
       "      <td>low</td>\n",
       "    </tr>\n",
       "    <tr>\n",
       "      <th>4</th>\n",
       "      <td>6.6</td>\n",
       "      <td>37</td>\n",
       "      <td>0</td>\n",
       "      <td>0</td>\n",
       "      <td>0</td>\n",
       "      <td>0</td>\n",
       "      <td>255</td>\n",
       "      <td>medium</td>\n",
       "    </tr>\n",
       "  </tbody>\n",
       "</table>\n",
       "</div>"
      ],
      "text/plain": [
       "    pH  Temprature  Taste  Odor  Fat   Turbidity  Colour   Grade\n",
       "0  6.6          35      1     0     1          0     254    high\n",
       "1  6.6          36      0     1     0          1     253    high\n",
       "2  8.5          70      1     1     1          1     246     low\n",
       "3  9.5          34      1     1     0          1     255     low\n",
       "4  6.6          37      0     0     0          0     255  medium"
      ]
     },
     "execution_count": 3,
     "metadata": {},
     "output_type": "execute_result"
    }
   ],
   "source": [
    "milk.head()"
   ]
  },
  {
   "cell_type": "code",
   "execution_count": 4,
   "id": "27d87940",
   "metadata": {
    "execution": {
     "iopub.execute_input": "2023-09-07T23:15:43.785078Z",
     "iopub.status.busy": "2023-09-07T23:15:43.784445Z",
     "iopub.status.idle": "2023-09-07T23:15:43.797164Z",
     "shell.execute_reply": "2023-09-07T23:15:43.795968Z"
    },
    "papermill": {
     "duration": 0.025963,
     "end_time": "2023-09-07T23:15:43.799582",
     "exception": false,
     "start_time": "2023-09-07T23:15:43.773619",
     "status": "completed"
    },
    "tags": []
   },
   "outputs": [
    {
     "data": {
      "text/html": [
       "<div>\n",
       "<style scoped>\n",
       "    .dataframe tbody tr th:only-of-type {\n",
       "        vertical-align: middle;\n",
       "    }\n",
       "\n",
       "    .dataframe tbody tr th {\n",
       "        vertical-align: top;\n",
       "    }\n",
       "\n",
       "    .dataframe thead th {\n",
       "        text-align: right;\n",
       "    }\n",
       "</style>\n",
       "<table border=\"1\" class=\"dataframe\">\n",
       "  <thead>\n",
       "    <tr style=\"text-align: right;\">\n",
       "      <th></th>\n",
       "      <th>pH</th>\n",
       "      <th>Temprature</th>\n",
       "      <th>Taste</th>\n",
       "      <th>Odor</th>\n",
       "      <th>Fat</th>\n",
       "      <th>Turbidity</th>\n",
       "      <th>Colour</th>\n",
       "      <th>Grade</th>\n",
       "    </tr>\n",
       "  </thead>\n",
       "  <tbody>\n",
       "    <tr>\n",
       "      <th>1054</th>\n",
       "      <td>6.7</td>\n",
       "      <td>45</td>\n",
       "      <td>1</td>\n",
       "      <td>1</td>\n",
       "      <td>0</td>\n",
       "      <td>0</td>\n",
       "      <td>247</td>\n",
       "      <td>medium</td>\n",
       "    </tr>\n",
       "    <tr>\n",
       "      <th>1055</th>\n",
       "      <td>6.7</td>\n",
       "      <td>38</td>\n",
       "      <td>1</td>\n",
       "      <td>0</td>\n",
       "      <td>1</td>\n",
       "      <td>0</td>\n",
       "      <td>255</td>\n",
       "      <td>high</td>\n",
       "    </tr>\n",
       "    <tr>\n",
       "      <th>1056</th>\n",
       "      <td>3.0</td>\n",
       "      <td>40</td>\n",
       "      <td>1</td>\n",
       "      <td>1</td>\n",
       "      <td>1</td>\n",
       "      <td>1</td>\n",
       "      <td>255</td>\n",
       "      <td>low</td>\n",
       "    </tr>\n",
       "    <tr>\n",
       "      <th>1057</th>\n",
       "      <td>6.8</td>\n",
       "      <td>43</td>\n",
       "      <td>1</td>\n",
       "      <td>0</td>\n",
       "      <td>1</td>\n",
       "      <td>0</td>\n",
       "      <td>250</td>\n",
       "      <td>high</td>\n",
       "    </tr>\n",
       "    <tr>\n",
       "      <th>1058</th>\n",
       "      <td>8.6</td>\n",
       "      <td>55</td>\n",
       "      <td>0</td>\n",
       "      <td>1</td>\n",
       "      <td>1</td>\n",
       "      <td>1</td>\n",
       "      <td>255</td>\n",
       "      <td>low</td>\n",
       "    </tr>\n",
       "  </tbody>\n",
       "</table>\n",
       "</div>"
      ],
      "text/plain": [
       "       pH  Temprature  Taste  Odor  Fat   Turbidity  Colour   Grade\n",
       "1054  6.7          45      1     1     0          0     247  medium\n",
       "1055  6.7          38      1     0     1          0     255    high\n",
       "1056  3.0          40      1     1     1          1     255     low\n",
       "1057  6.8          43      1     0     1          0     250    high\n",
       "1058  8.6          55      0     1     1          1     255     low"
      ]
     },
     "execution_count": 4,
     "metadata": {},
     "output_type": "execute_result"
    }
   ],
   "source": [
    "milk.tail()"
   ]
  },
  {
   "cell_type": "code",
   "execution_count": 5,
   "id": "0fcb9abb",
   "metadata": {
    "execution": {
     "iopub.execute_input": "2023-09-07T23:15:43.821987Z",
     "iopub.status.busy": "2023-09-07T23:15:43.821303Z",
     "iopub.status.idle": "2023-09-07T23:15:43.828527Z",
     "shell.execute_reply": "2023-09-07T23:15:43.827131Z"
    },
    "papermill": {
     "duration": 0.021578,
     "end_time": "2023-09-07T23:15:43.830772",
     "exception": false,
     "start_time": "2023-09-07T23:15:43.809194",
     "status": "completed"
    },
    "tags": []
   },
   "outputs": [
    {
     "data": {
      "text/plain": [
       "(1059, 8)"
      ]
     },
     "execution_count": 5,
     "metadata": {},
     "output_type": "execute_result"
    }
   ],
   "source": [
    "milk.shape"
   ]
  },
  {
   "cell_type": "markdown",
   "id": "1ec7aecc",
   "metadata": {
    "papermill": {
     "duration": 0.009255,
     "end_time": "2023-09-07T23:15:43.849930",
     "exception": false,
     "start_time": "2023-09-07T23:15:43.840675",
     "status": "completed"
    },
    "tags": []
   },
   "source": [
    "# Data Cleaning and Visulization"
   ]
  },
  {
   "cell_type": "code",
   "execution_count": 6,
   "id": "22d4d88c",
   "metadata": {
    "execution": {
     "iopub.execute_input": "2023-09-07T23:15:43.872205Z",
     "iopub.status.busy": "2023-09-07T23:15:43.871826Z",
     "iopub.status.idle": "2023-09-07T23:15:43.897712Z",
     "shell.execute_reply": "2023-09-07T23:15:43.895967Z"
    },
    "papermill": {
     "duration": 0.039243,
     "end_time": "2023-09-07T23:15:43.900042",
     "exception": false,
     "start_time": "2023-09-07T23:15:43.860799",
     "status": "completed"
    },
    "tags": []
   },
   "outputs": [
    {
     "name": "stdout",
     "output_type": "stream",
     "text": [
      "<class 'pandas.core.frame.DataFrame'>\n",
      "RangeIndex: 1059 entries, 0 to 1058\n",
      "Data columns (total 8 columns):\n",
      " #   Column      Non-Null Count  Dtype  \n",
      "---  ------      --------------  -----  \n",
      " 0   pH          1059 non-null   float64\n",
      " 1   Temprature  1059 non-null   int64  \n",
      " 2   Taste       1059 non-null   int64  \n",
      " 3   Odor        1059 non-null   int64  \n",
      " 4   Fat         1059 non-null   int64  \n",
      " 5   Turbidity   1059 non-null   int64  \n",
      " 6   Colour      1059 non-null   int64  \n",
      " 7   Grade       1059 non-null   object \n",
      "dtypes: float64(1), int64(6), object(1)\n",
      "memory usage: 66.3+ KB\n"
     ]
    }
   ],
   "source": [
    "milk.info()"
   ]
  },
  {
   "cell_type": "code",
   "execution_count": 7,
   "id": "e330e548",
   "metadata": {
    "execution": {
     "iopub.execute_input": "2023-09-07T23:15:43.922051Z",
     "iopub.status.busy": "2023-09-07T23:15:43.921680Z",
     "iopub.status.idle": "2023-09-07T23:15:43.954059Z",
     "shell.execute_reply": "2023-09-07T23:15:43.952241Z"
    },
    "papermill": {
     "duration": 0.046445,
     "end_time": "2023-09-07T23:15:43.956907",
     "exception": false,
     "start_time": "2023-09-07T23:15:43.910462",
     "status": "completed"
    },
    "tags": []
   },
   "outputs": [
    {
     "data": {
      "text/html": [
       "<div>\n",
       "<style scoped>\n",
       "    .dataframe tbody tr th:only-of-type {\n",
       "        vertical-align: middle;\n",
       "    }\n",
       "\n",
       "    .dataframe tbody tr th {\n",
       "        vertical-align: top;\n",
       "    }\n",
       "\n",
       "    .dataframe thead th {\n",
       "        text-align: right;\n",
       "    }\n",
       "</style>\n",
       "<table border=\"1\" class=\"dataframe\">\n",
       "  <thead>\n",
       "    <tr style=\"text-align: right;\">\n",
       "      <th></th>\n",
       "      <th>pH</th>\n",
       "      <th>Temprature</th>\n",
       "      <th>Taste</th>\n",
       "      <th>Odor</th>\n",
       "      <th>Fat</th>\n",
       "      <th>Turbidity</th>\n",
       "      <th>Colour</th>\n",
       "    </tr>\n",
       "  </thead>\n",
       "  <tbody>\n",
       "    <tr>\n",
       "      <th>count</th>\n",
       "      <td>1059.000000</td>\n",
       "      <td>1059.000000</td>\n",
       "      <td>1059.000000</td>\n",
       "      <td>1059.000000</td>\n",
       "      <td>1059.000000</td>\n",
       "      <td>1059.000000</td>\n",
       "      <td>1059.000000</td>\n",
       "    </tr>\n",
       "    <tr>\n",
       "      <th>mean</th>\n",
       "      <td>6.630123</td>\n",
       "      <td>44.226629</td>\n",
       "      <td>0.546742</td>\n",
       "      <td>0.432483</td>\n",
       "      <td>0.671388</td>\n",
       "      <td>0.491029</td>\n",
       "      <td>251.840415</td>\n",
       "    </tr>\n",
       "    <tr>\n",
       "      <th>std</th>\n",
       "      <td>1.399679</td>\n",
       "      <td>10.098364</td>\n",
       "      <td>0.498046</td>\n",
       "      <td>0.495655</td>\n",
       "      <td>0.469930</td>\n",
       "      <td>0.500156</td>\n",
       "      <td>4.307424</td>\n",
       "    </tr>\n",
       "    <tr>\n",
       "      <th>min</th>\n",
       "      <td>3.000000</td>\n",
       "      <td>34.000000</td>\n",
       "      <td>0.000000</td>\n",
       "      <td>0.000000</td>\n",
       "      <td>0.000000</td>\n",
       "      <td>0.000000</td>\n",
       "      <td>240.000000</td>\n",
       "    </tr>\n",
       "    <tr>\n",
       "      <th>25%</th>\n",
       "      <td>6.500000</td>\n",
       "      <td>38.000000</td>\n",
       "      <td>0.000000</td>\n",
       "      <td>0.000000</td>\n",
       "      <td>0.000000</td>\n",
       "      <td>0.000000</td>\n",
       "      <td>250.000000</td>\n",
       "    </tr>\n",
       "    <tr>\n",
       "      <th>50%</th>\n",
       "      <td>6.700000</td>\n",
       "      <td>41.000000</td>\n",
       "      <td>1.000000</td>\n",
       "      <td>0.000000</td>\n",
       "      <td>1.000000</td>\n",
       "      <td>0.000000</td>\n",
       "      <td>255.000000</td>\n",
       "    </tr>\n",
       "    <tr>\n",
       "      <th>75%</th>\n",
       "      <td>6.800000</td>\n",
       "      <td>45.000000</td>\n",
       "      <td>1.000000</td>\n",
       "      <td>1.000000</td>\n",
       "      <td>1.000000</td>\n",
       "      <td>1.000000</td>\n",
       "      <td>255.000000</td>\n",
       "    </tr>\n",
       "    <tr>\n",
       "      <th>max</th>\n",
       "      <td>9.500000</td>\n",
       "      <td>90.000000</td>\n",
       "      <td>1.000000</td>\n",
       "      <td>1.000000</td>\n",
       "      <td>1.000000</td>\n",
       "      <td>1.000000</td>\n",
       "      <td>255.000000</td>\n",
       "    </tr>\n",
       "  </tbody>\n",
       "</table>\n",
       "</div>"
      ],
      "text/plain": [
       "                pH   Temprature        Taste         Odor         Fat   \\\n",
       "count  1059.000000  1059.000000  1059.000000  1059.000000  1059.000000   \n",
       "mean      6.630123    44.226629     0.546742     0.432483     0.671388   \n",
       "std       1.399679    10.098364     0.498046     0.495655     0.469930   \n",
       "min       3.000000    34.000000     0.000000     0.000000     0.000000   \n",
       "25%       6.500000    38.000000     0.000000     0.000000     0.000000   \n",
       "50%       6.700000    41.000000     1.000000     0.000000     1.000000   \n",
       "75%       6.800000    45.000000     1.000000     1.000000     1.000000   \n",
       "max       9.500000    90.000000     1.000000     1.000000     1.000000   \n",
       "\n",
       "         Turbidity       Colour  \n",
       "count  1059.000000  1059.000000  \n",
       "mean      0.491029   251.840415  \n",
       "std       0.500156     4.307424  \n",
       "min       0.000000   240.000000  \n",
       "25%       0.000000   250.000000  \n",
       "50%       0.000000   255.000000  \n",
       "75%       1.000000   255.000000  \n",
       "max       1.000000   255.000000  "
      ]
     },
     "execution_count": 7,
     "metadata": {},
     "output_type": "execute_result"
    }
   ],
   "source": [
    "milk.describe()"
   ]
  },
  {
   "cell_type": "code",
   "execution_count": 8,
   "id": "4c974360",
   "metadata": {
    "execution": {
     "iopub.execute_input": "2023-09-07T23:15:43.980762Z",
     "iopub.status.busy": "2023-09-07T23:15:43.979666Z",
     "iopub.status.idle": "2023-09-07T23:15:43.988450Z",
     "shell.execute_reply": "2023-09-07T23:15:43.987325Z"
    },
    "papermill": {
     "duration": 0.023019,
     "end_time": "2023-09-07T23:15:43.990394",
     "exception": false,
     "start_time": "2023-09-07T23:15:43.967375",
     "status": "completed"
    },
    "tags": []
   },
   "outputs": [
    {
     "data": {
      "text/plain": [
       "pH            0\n",
       "Temprature    0\n",
       "Taste         0\n",
       "Odor          0\n",
       "Fat           0\n",
       "Turbidity     0\n",
       "Colour        0\n",
       "Grade         0\n",
       "dtype: int64"
      ]
     },
     "execution_count": 8,
     "metadata": {},
     "output_type": "execute_result"
    }
   ],
   "source": [
    "milk.isnull().sum()"
   ]
  },
  {
   "cell_type": "code",
   "execution_count": 9,
   "id": "035a9889",
   "metadata": {
    "execution": {
     "iopub.execute_input": "2023-09-07T23:15:44.013215Z",
     "iopub.status.busy": "2023-09-07T23:15:44.011980Z",
     "iopub.status.idle": "2023-09-07T23:15:44.418950Z",
     "shell.execute_reply": "2023-09-07T23:15:44.417606Z"
    },
    "papermill": {
     "duration": 0.420355,
     "end_time": "2023-09-07T23:15:44.421065",
     "exception": false,
     "start_time": "2023-09-07T23:15:44.000710",
     "status": "completed"
    },
    "tags": []
   },
   "outputs": [
    {
     "data": {
      "text/plain": [
       "<Axes: >"
      ]
     },
     "execution_count": 9,
     "metadata": {},
     "output_type": "execute_result"
    },
    {
     "data": {
      "image/png": "[encoded data removed]",
      "text/plain": [
       "<Figure size 640x480 with 2 Axes>"
      ]
     },
     "metadata": {},
     "output_type": "display_data"
    }
   ],
   "source": [
    "sns.heatmap(milk.isnull())"
   ]
  },
  {
   "cell_type": "code",
   "execution_count": 10,
   "id": "fd9ef361",
   "metadata": {
    "execution": {
     "iopub.execute_input": "2023-09-07T23:15:44.444780Z",
     "iopub.status.busy": "2023-09-07T23:15:44.444372Z",
     "iopub.status.idle": "2023-09-07T23:15:44.460819Z",
     "shell.execute_reply": "2023-09-07T23:15:44.459591Z"
    },
    "papermill": {
     "duration": 0.031372,
     "end_time": "2023-09-07T23:15:44.463091",
     "exception": false,
     "start_time": "2023-09-07T23:15:44.431719",
     "status": "completed"
    },
    "tags": []
   },
   "outputs": [
    {
     "name": "stderr",
     "output_type": "stream",
     "text": [
      "C:\\Users\\HP\\AppData\\Local\\Temp\\ipykernel_19492\\2685404228.py:1: FutureWarning: The default value of numeric_only in DataFrame.corr is deprecated. In a future version, it will default to False. Select only valid columns or specify the value of numeric_only to silence this warning.\n",
      "  milk.corr()\n"
     ]
    },
    {
     "data": {
      "text/html": [
       "<div>\n",
       "<style scoped>\n",
       "    .dataframe tbody tr th:only-of-type {\n",
       "        vertical-align: middle;\n",
       "    }\n",
       "\n",
       "    .dataframe tbody tr th {\n",
       "        vertical-align: top;\n",
       "    }\n",
       "\n",
       "    .dataframe thead th {\n",
       "        text-align: right;\n",
       "    }\n",
       "</style>\n",
       "<table border=\"1\" class=\"dataframe\">\n",
       "  <thead>\n",
       "    <tr style=\"text-align: right;\">\n",
       "      <th></th>\n",
       "      <th>pH</th>\n",
       "      <th>Temprature</th>\n",
       "      <th>Taste</th>\n",
       "      <th>Odor</th>\n",
       "      <th>Fat</th>\n",
       "      <th>Turbidity</th>\n",
       "      <th>Colour</th>\n",
       "    </tr>\n",
       "  </thead>\n",
       "  <tbody>\n",
       "    <tr>\n",
       "      <th>pH</th>\n",
       "      <td>1.000000</td>\n",
       "      <td>0.244684</td>\n",
       "      <td>-0.064053</td>\n",
       "      <td>-0.081331</td>\n",
       "      <td>-0.093429</td>\n",
       "      <td>0.048384</td>\n",
       "      <td>-0.164565</td>\n",
       "    </tr>\n",
       "    <tr>\n",
       "      <th>Temprature</th>\n",
       "      <td>0.244684</td>\n",
       "      <td>1.000000</td>\n",
       "      <td>-0.109792</td>\n",
       "      <td>-0.048870</td>\n",
       "      <td>0.024073</td>\n",
       "      <td>0.185106</td>\n",
       "      <td>-0.008511</td>\n",
       "    </tr>\n",
       "    <tr>\n",
       "      <th>Taste</th>\n",
       "      <td>-0.064053</td>\n",
       "      <td>-0.109792</td>\n",
       "      <td>1.000000</td>\n",
       "      <td>0.017582</td>\n",
       "      <td>0.324149</td>\n",
       "      <td>0.055755</td>\n",
       "      <td>-0.082654</td>\n",
       "    </tr>\n",
       "    <tr>\n",
       "      <th>Odor</th>\n",
       "      <td>-0.081331</td>\n",
       "      <td>-0.048870</td>\n",
       "      <td>0.017582</td>\n",
       "      <td>1.000000</td>\n",
       "      <td>0.314505</td>\n",
       "      <td>0.457935</td>\n",
       "      <td>-0.039361</td>\n",
       "    </tr>\n",
       "    <tr>\n",
       "      <th>Fat</th>\n",
       "      <td>-0.093429</td>\n",
       "      <td>0.024073</td>\n",
       "      <td>0.324149</td>\n",
       "      <td>0.314505</td>\n",
       "      <td>1.000000</td>\n",
       "      <td>0.329264</td>\n",
       "      <td>0.114151</td>\n",
       "    </tr>\n",
       "    <tr>\n",
       "      <th>Turbidity</th>\n",
       "      <td>0.048384</td>\n",
       "      <td>0.185106</td>\n",
       "      <td>0.055755</td>\n",
       "      <td>0.457935</td>\n",
       "      <td>0.329264</td>\n",
       "      <td>1.000000</td>\n",
       "      <td>0.136436</td>\n",
       "    </tr>\n",
       "    <tr>\n",
       "      <th>Colour</th>\n",
       "      <td>-0.164565</td>\n",
       "      <td>-0.008511</td>\n",
       "      <td>-0.082654</td>\n",
       "      <td>-0.039361</td>\n",
       "      <td>0.114151</td>\n",
       "      <td>0.136436</td>\n",
       "      <td>1.000000</td>\n",
       "    </tr>\n",
       "  </tbody>\n",
       "</table>\n",
       "</div>"
      ],
      "text/plain": [
       "                  pH  Temprature     Taste      Odor      Fat   Turbidity  \\\n",
       "pH          1.000000    0.244684 -0.064053 -0.081331 -0.093429   0.048384   \n",
       "Temprature  0.244684    1.000000 -0.109792 -0.048870  0.024073   0.185106   \n",
       "Taste      -0.064053   -0.109792  1.000000  0.017582  0.324149   0.055755   \n",
       "Odor       -0.081331   -0.048870  0.017582  1.000000  0.314505   0.457935   \n",
       "Fat        -0.093429    0.024073  0.324149  0.314505  1.000000   0.329264   \n",
       "Turbidity   0.048384    0.185106  0.055755  0.457935  0.329264   1.000000   \n",
       "Colour     -0.164565   -0.008511 -0.082654 -0.039361  0.114151   0.136436   \n",
       "\n",
       "              Colour  \n",
       "pH         -0.164565  \n",
       "Temprature -0.008511  \n",
       "Taste      -0.082654  \n",
       "Odor       -0.039361  \n",
       "Fat         0.114151  \n",
       "Turbidity   0.136436  \n",
       "Colour      1.000000  "
      ]
     },
     "execution_count": 10,
     "metadata": {},
     "output_type": "execute_result"
    }
   ],
   "source": [
    "milk.corr()"
   ]
  },
  {
   "cell_type": "code",
   "execution_count": 11,
   "id": "ce125a96",
   "metadata": {
    "execution": {
     "iopub.execute_input": "2023-09-07T23:15:44.487328Z",
     "iopub.status.busy": "2023-09-07T23:15:44.486715Z",
     "iopub.status.idle": "2023-09-07T23:15:44.917913Z",
     "shell.execute_reply": "2023-09-07T23:15:44.917122Z"
    },
    "papermill": {
     "duration": 0.445454,
     "end_time": "2023-09-07T23:15:44.919755",
     "exception": false,
     "start_time": "2023-09-07T23:15:44.474301",
     "status": "completed"
    },
    "tags": []
   },
   "outputs": [
    {
     "name": "stderr",
     "output_type": "stream",
     "text": [
      "C:\\Users\\HP\\AppData\\Local\\Temp\\ipykernel_19492\\528960381.py:1: FutureWarning: The default value of numeric_only in DataFrame.corr is deprecated. In a future version, it will default to False. Select only valid columns or specify the value of numeric_only to silence this warning.\n",
      "  sns.heatmap(milk.corr(),annot=True,cmap=\"Greens\")\n"
     ]
    },
    {
     "data": {
      "text/plain": [
       "<Axes: >"
      ]
     },
     "execution_count": 11,
     "metadata": {},
     "output_type": "execute_result"
    },
    {
     "data": {
      "image/png": "[encoded data removed]",
      "text/plain": [
       "<Figure size 640x480 with 2 Axes>"
      ]
     },
     "metadata": {},
     "output_type": "display_data"
    }
   ],
   "source": [
    "sns.heatmap(milk.corr(),annot=True,cmap=\"Greens\")"
   ]
  },
  {
   "cell_type": "code",
   "execution_count": 12,
   "id": "b7ec0b19",
   "metadata": {
    "execution": {
     "iopub.execute_input": "2023-09-07T23:15:44.948017Z",
     "iopub.status.busy": "2023-09-07T23:15:44.946879Z",
     "iopub.status.idle": "2023-09-07T23:15:45.194629Z",
     "shell.execute_reply": "2023-09-07T23:15:45.193176Z"
    },
    "papermill": {
     "duration": 0.265204,
     "end_time": "2023-09-07T23:15:45.197459",
     "exception": false,
     "start_time": "2023-09-07T23:15:44.932255",
     "status": "completed"
    },
    "tags": []
   },
   "outputs": [
    {
     "data": {
      "text/plain": [
       "<seaborn.axisgrid.FacetGrid at 0x24a3899f410>"
      ]
     },
     "execution_count": 12,
     "metadata": {},
     "output_type": "execute_result"
    },
    {
     "data": {
      "image/png": "[encoded data removed]",
      "text/plain": [
       "<Figure size 500x500 with 1 Axes>"
      ]
     },
     "metadata": {},
     "output_type": "display_data"
    }
   ],
   "source": [
    "sns.displot(milk['Taste'])"
   ]
  },
  {
   "cell_type": "code",
   "execution_count": 13,
   "id": "76c79ff5",
   "metadata": {
    "execution": {
     "iopub.execute_input": "2023-09-07T23:15:45.223432Z",
     "iopub.status.busy": "2023-09-07T23:15:45.223024Z",
     "iopub.status.idle": "2023-09-07T23:15:45.372509Z",
     "shell.execute_reply": "2023-09-07T23:15:45.371219Z"
    },
    "papermill": {
     "duration": 0.16503,
     "end_time": "2023-09-07T23:15:45.374822",
     "exception": false,
     "start_time": "2023-09-07T23:15:45.209792",
     "status": "completed"
    },
    "tags": []
   },
   "outputs": [
    {
     "data": {
      "text/plain": [
       "<Axes: ylabel='Taste'>"
      ]
     },
     "execution_count": 13,
     "metadata": {},
     "output_type": "execute_result"
    },
    {
     "data": {
      "image/png": "[encoded data removed]",
      "text/plain": [
       "<Figure size 640x480 with 1 Axes>"
      ]
     },
     "metadata": {},
     "output_type": "display_data"
    }
   ],
   "source": [
    "milk['Taste'].value_counts().plot(kind='pie',autopct='%1.1f%%')"
   ]
  },
  {
   "cell_type": "code",
   "execution_count": 14,
   "id": "ff194e15",
   "metadata": {
    "execution": {
     "iopub.execute_input": "2023-09-07T23:15:45.409500Z",
     "iopub.status.busy": "2023-09-07T23:15:45.408835Z",
     "iopub.status.idle": "2023-09-07T23:15:45.508285Z",
     "shell.execute_reply": "2023-09-07T23:15:45.507461Z"
    },
    "papermill": {
     "duration": 0.119438,
     "end_time": "2023-09-07T23:15:45.510430",
     "exception": false,
     "start_time": "2023-09-07T23:15:45.390992",
     "status": "completed"
    },
    "tags": []
   },
   "outputs": [
    {
     "data": {
      "text/plain": [
       "<Axes: ylabel='Grade'>"
      ]
     },
     "execution_count": 14,
     "metadata": {},
     "output_type": "execute_result"
    },
    {
     "data": {
      "image/png": "[encoded data removed]",
      "text/plain": [
       "<Figure size 640x480 with 1 Axes>"
      ]
     },
     "metadata": {},
     "output_type": "display_data"
    }
   ],
   "source": [
    "milk['Grade'].value_counts().plot(kind='pie',autopct='%1.1f%%')"
   ]
  },
  {
   "cell_type": "code",
   "execution_count": 15,
   "id": "36a15ff1",
   "metadata": {
    "execution": {
     "iopub.execute_input": "2023-09-07T23:15:45.545289Z",
     "iopub.status.busy": "2023-09-07T23:15:45.544695Z",
     "iopub.status.idle": "2023-09-07T23:15:54.236987Z",
     "shell.execute_reply": "2023-09-07T23:15:54.235931Z"
    },
    "papermill": {
     "duration": 8.712168,
     "end_time": "2023-09-07T23:15:54.239139",
     "exception": false,
     "start_time": "2023-09-07T23:15:45.526971",
     "status": "completed"
    },
    "tags": []
   },
   "outputs": [
    {
     "data": {
      "text/plain": [
       "<seaborn.axisgrid.PairGrid at 0x24a38bf4850>"
      ]
     },
     "execution_count": 15,
     "metadata": {},
     "output_type": "execute_result"
    },
    {
     "data": {
      "image/png": "[encoded data removed]",
      "text/plain": [
       "<Figure size 1750x1750 with 56 Axes>"
      ]
     },
     "metadata": {},
     "output_type": "display_data"
    }
   ],
   "source": [
    "sns.pairplot(milk)"
   ]
  },
  {
   "cell_type": "code",
   "execution_count": 16,
   "id": "d4fdd39d",
   "metadata": {
    "execution": {
     "iopub.execute_input": "2023-09-07T23:15:54.270065Z",
     "iopub.status.busy": "2023-09-07T23:15:54.269606Z",
     "iopub.status.idle": "2023-09-07T23:15:54.282248Z",
     "shell.execute_reply": "2023-09-07T23:15:54.281318Z"
    },
    "papermill": {
     "duration": 0.030497,
     "end_time": "2023-09-07T23:15:54.284232",
     "exception": false,
     "start_time": "2023-09-07T23:15:54.253735",
     "status": "completed"
    },
    "tags": []
   },
   "outputs": [
    {
     "data": {
      "text/html": [
       "<div>\n",
       "<style scoped>\n",
       "    .dataframe tbody tr th:only-of-type {\n",
       "        vertical-align: middle;\n",
       "    }\n",
       "\n",
       "    .dataframe tbody tr th {\n",
       "        vertical-align: top;\n",
       "    }\n",
       "\n",
       "    .dataframe thead th {\n",
       "        text-align: right;\n",
       "    }\n",
       "</style>\n",
       "<table border=\"1\" class=\"dataframe\">\n",
       "  <thead>\n",
       "    <tr style=\"text-align: right;\">\n",
       "      <th></th>\n",
       "      <th>pH</th>\n",
       "      <th>Temprature</th>\n",
       "      <th>Taste</th>\n",
       "      <th>Odor</th>\n",
       "      <th>Fat</th>\n",
       "      <th>Turbidity</th>\n",
       "      <th>Colour</th>\n",
       "      <th>Grade</th>\n",
       "    </tr>\n",
       "  </thead>\n",
       "  <tbody>\n",
       "    <tr>\n",
       "      <th>0</th>\n",
       "      <td>6.6</td>\n",
       "      <td>35</td>\n",
       "      <td>1</td>\n",
       "      <td>0</td>\n",
       "      <td>1</td>\n",
       "      <td>0</td>\n",
       "      <td>254</td>\n",
       "      <td>high</td>\n",
       "    </tr>\n",
       "    <tr>\n",
       "      <th>1</th>\n",
       "      <td>6.6</td>\n",
       "      <td>36</td>\n",
       "      <td>0</td>\n",
       "      <td>1</td>\n",
       "      <td>0</td>\n",
       "      <td>1</td>\n",
       "      <td>253</td>\n",
       "      <td>high</td>\n",
       "    </tr>\n",
       "    <tr>\n",
       "      <th>2</th>\n",
       "      <td>8.5</td>\n",
       "      <td>70</td>\n",
       "      <td>1</td>\n",
       "      <td>1</td>\n",
       "      <td>1</td>\n",
       "      <td>1</td>\n",
       "      <td>246</td>\n",
       "      <td>low</td>\n",
       "    </tr>\n",
       "  </tbody>\n",
       "</table>\n",
       "</div>"
      ],
      "text/plain": [
       "    pH  Temprature  Taste  Odor  Fat   Turbidity  Colour Grade\n",
       "0  6.6          35      1     0     1          0     254  high\n",
       "1  6.6          36      0     1     0          1     253  high\n",
       "2  8.5          70      1     1     1          1     246   low"
      ]
     },
     "execution_count": 16,
     "metadata": {},
     "output_type": "execute_result"
    }
   ],
   "source": [
    "milk.head(3)"
   ]
  },
  {
   "cell_type": "markdown",
   "id": "31941cdd",
   "metadata": {
    "papermill": {
     "duration": 0.014353,
     "end_time": "2023-09-07T23:15:54.313234",
     "exception": false,
     "start_time": "2023-09-07T23:15:54.298881",
     "status": "completed"
    },
    "tags": []
   },
   "source": [
    "# Preprocessing.LabelEncoder Convert String to Number #"
   ]
  },
  {
   "cell_type": "code",
   "execution_count": 17,
   "id": "aab583e9",
   "metadata": {
    "execution": {
     "iopub.execute_input": "2023-09-07T23:15:54.346099Z",
     "iopub.status.busy": "2023-09-07T23:15:54.345712Z",
     "iopub.status.idle": "2023-09-07T23:15:54.357167Z",
     "shell.execute_reply": "2023-09-07T23:15:54.355618Z"
    },
    "papermill": {
     "duration": 0.030348,
     "end_time": "2023-09-07T23:15:54.359902",
     "exception": false,
     "start_time": "2023-09-07T23:15:54.329554",
     "status": "completed"
    },
    "tags": []
   },
   "outputs": [
    {
     "data": {
      "text/plain": [
       "array([0, 1, 2])"
      ]
     },
     "execution_count": 17,
     "metadata": {},
     "output_type": "execute_result"
    }
   ],
   "source": [
    "label_encoder = preprocessing.LabelEncoder()\n",
    "\n",
    "milk['Grade']= label_encoder.fit_transform(milk['Grade'])\n",
    "\n",
    "milk['Grade'].unique()"
   ]
  },
  {
   "cell_type": "code",
   "execution_count": 18,
   "id": "3ed67d3d",
   "metadata": {
    "execution": {
     "iopub.execute_input": "2023-09-07T23:15:54.391490Z",
     "iopub.status.busy": "2023-09-07T23:15:54.391055Z",
     "iopub.status.idle": "2023-09-07T23:15:54.403156Z",
     "shell.execute_reply": "2023-09-07T23:15:54.401610Z"
    },
    "papermill": {
     "duration": 0.03118,
     "end_time": "2023-09-07T23:15:54.405924",
     "exception": false,
     "start_time": "2023-09-07T23:15:54.374744",
     "status": "completed"
    },
    "tags": []
   },
   "outputs": [
    {
     "data": {
      "text/html": [
       "<div>\n",
       "<style scoped>\n",
       "    .dataframe tbody tr th:only-of-type {\n",
       "        vertical-align: middle;\n",
       "    }\n",
       "\n",
       "    .dataframe tbody tr th {\n",
       "        vertical-align: top;\n",
       "    }\n",
       "\n",
       "    .dataframe thead th {\n",
       "        text-align: right;\n",
       "    }\n",
       "</style>\n",
       "<table border=\"1\" class=\"dataframe\">\n",
       "  <thead>\n",
       "    <tr style=\"text-align: right;\">\n",
       "      <th></th>\n",
       "      <th>pH</th>\n",
       "      <th>Temprature</th>\n",
       "      <th>Taste</th>\n",
       "      <th>Odor</th>\n",
       "      <th>Fat</th>\n",
       "      <th>Turbidity</th>\n",
       "      <th>Colour</th>\n",
       "      <th>Grade</th>\n",
       "    </tr>\n",
       "  </thead>\n",
       "  <tbody>\n",
       "    <tr>\n",
       "      <th>0</th>\n",
       "      <td>6.6</td>\n",
       "      <td>35</td>\n",
       "      <td>1</td>\n",
       "      <td>0</td>\n",
       "      <td>1</td>\n",
       "      <td>0</td>\n",
       "      <td>254</td>\n",
       "      <td>0</td>\n",
       "    </tr>\n",
       "    <tr>\n",
       "      <th>1</th>\n",
       "      <td>6.6</td>\n",
       "      <td>36</td>\n",
       "      <td>0</td>\n",
       "      <td>1</td>\n",
       "      <td>0</td>\n",
       "      <td>1</td>\n",
       "      <td>253</td>\n",
       "      <td>0</td>\n",
       "    </tr>\n",
       "    <tr>\n",
       "      <th>2</th>\n",
       "      <td>8.5</td>\n",
       "      <td>70</td>\n",
       "      <td>1</td>\n",
       "      <td>1</td>\n",
       "      <td>1</td>\n",
       "      <td>1</td>\n",
       "      <td>246</td>\n",
       "      <td>1</td>\n",
       "    </tr>\n",
       "  </tbody>\n",
       "</table>\n",
       "</div>"
      ],
      "text/plain": [
       "    pH  Temprature  Taste  Odor  Fat   Turbidity  Colour  Grade\n",
       "0  6.6          35      1     0     1          0     254      0\n",
       "1  6.6          36      0     1     0          1     253      0\n",
       "2  8.5          70      1     1     1          1     246      1"
      ]
     },
     "execution_count": 18,
     "metadata": {},
     "output_type": "execute_result"
    }
   ],
   "source": [
    "milk.head(3)"
   ]
  },
  {
   "cell_type": "code",
   "execution_count": 19,
   "id": "f3828f8e",
   "metadata": {
    "execution": {
     "iopub.execute_input": "2023-09-07T23:15:54.437633Z",
     "iopub.status.busy": "2023-09-07T23:15:54.437196Z",
     "iopub.status.idle": "2023-09-07T23:15:54.444600Z",
     "shell.execute_reply": "2023-09-07T23:15:54.443520Z"
    },
    "papermill": {
     "duration": 0.02624,
     "end_time": "2023-09-07T23:15:54.447137",
     "exception": false,
     "start_time": "2023-09-07T23:15:54.420897",
     "status": "completed"
    },
    "tags": []
   },
   "outputs": [],
   "source": [
    "milk__feature = ['pH','Temprature','Taste','Odor','Turbidity','Colour']\n",
    "\n",
    "x = milk[milk__feature]\n",
    "\n",
    "y = milk['Grade']"
   ]
  },
  {
   "cell_type": "code",
   "execution_count": 20,
   "id": "8d13208c",
   "metadata": {
    "execution": {
     "iopub.execute_input": "2023-09-07T23:15:54.479154Z",
     "iopub.status.busy": "2023-09-07T23:15:54.478721Z",
     "iopub.status.idle": "2023-09-07T23:15:54.491848Z",
     "shell.execute_reply": "2023-09-07T23:15:54.490500Z"
    },
    "papermill": {
     "duration": 0.032271,
     "end_time": "2023-09-07T23:15:54.494439",
     "exception": false,
     "start_time": "2023-09-07T23:15:54.462168",
     "status": "completed"
    },
    "tags": []
   },
   "outputs": [
    {
     "data": {
      "text/html": [
       "<div>\n",
       "<style scoped>\n",
       "    .dataframe tbody tr th:only-of-type {\n",
       "        vertical-align: middle;\n",
       "    }\n",
       "\n",
       "    .dataframe tbody tr th {\n",
       "        vertical-align: top;\n",
       "    }\n",
       "\n",
       "    .dataframe thead th {\n",
       "        text-align: right;\n",
       "    }\n",
       "</style>\n",
       "<table border=\"1\" class=\"dataframe\">\n",
       "  <thead>\n",
       "    <tr style=\"text-align: right;\">\n",
       "      <th></th>\n",
       "      <th>pH</th>\n",
       "      <th>Temprature</th>\n",
       "      <th>Taste</th>\n",
       "      <th>Odor</th>\n",
       "      <th>Turbidity</th>\n",
       "      <th>Colour</th>\n",
       "    </tr>\n",
       "  </thead>\n",
       "  <tbody>\n",
       "    <tr>\n",
       "      <th>0</th>\n",
       "      <td>6.6</td>\n",
       "      <td>35</td>\n",
       "      <td>1</td>\n",
       "      <td>0</td>\n",
       "      <td>0</td>\n",
       "      <td>254</td>\n",
       "    </tr>\n",
       "    <tr>\n",
       "      <th>1</th>\n",
       "      <td>6.6</td>\n",
       "      <td>36</td>\n",
       "      <td>0</td>\n",
       "      <td>1</td>\n",
       "      <td>1</td>\n",
       "      <td>253</td>\n",
       "    </tr>\n",
       "    <tr>\n",
       "      <th>2</th>\n",
       "      <td>8.5</td>\n",
       "      <td>70</td>\n",
       "      <td>1</td>\n",
       "      <td>1</td>\n",
       "      <td>1</td>\n",
       "      <td>246</td>\n",
       "    </tr>\n",
       "    <tr>\n",
       "      <th>3</th>\n",
       "      <td>9.5</td>\n",
       "      <td>34</td>\n",
       "      <td>1</td>\n",
       "      <td>1</td>\n",
       "      <td>1</td>\n",
       "      <td>255</td>\n",
       "    </tr>\n",
       "    <tr>\n",
       "      <th>4</th>\n",
       "      <td>6.6</td>\n",
       "      <td>37</td>\n",
       "      <td>0</td>\n",
       "      <td>0</td>\n",
       "      <td>0</td>\n",
       "      <td>255</td>\n",
       "    </tr>\n",
       "  </tbody>\n",
       "</table>\n",
       "</div>"
      ],
      "text/plain": [
       "    pH  Temprature  Taste  Odor  Turbidity  Colour\n",
       "0  6.6          35      1     0          0     254\n",
       "1  6.6          36      0     1          1     253\n",
       "2  8.5          70      1     1          1     246\n",
       "3  9.5          34      1     1          1     255\n",
       "4  6.6          37      0     0          0     255"
      ]
     },
     "execution_count": 20,
     "metadata": {},
     "output_type": "execute_result"
    }
   ],
   "source": [
    "x.head()"
   ]
  },
  {
   "cell_type": "code",
   "execution_count": 21,
   "id": "972947c6",
   "metadata": {
    "execution": {
     "iopub.execute_input": "2023-09-07T23:15:54.526623Z",
     "iopub.status.busy": "2023-09-07T23:15:54.526214Z",
     "iopub.status.idle": "2023-09-07T23:15:54.533208Z",
     "shell.execute_reply": "2023-09-07T23:15:54.531882Z"
    },
    "papermill": {
     "duration": 0.02561,
     "end_time": "2023-09-07T23:15:54.535239",
     "exception": false,
     "start_time": "2023-09-07T23:15:54.509629",
     "status": "completed"
    },
    "tags": []
   },
   "outputs": [
    {
     "data": {
      "text/plain": [
       "0    0\n",
       "1    0\n",
       "2    1\n",
       "3    1\n",
       "4    2\n",
       "Name: Grade, dtype: int32"
      ]
     },
     "execution_count": 21,
     "metadata": {},
     "output_type": "execute_result"
    }
   ],
   "source": [
    "y.head()"
   ]
  },
  {
   "cell_type": "code",
   "execution_count": 22,
   "id": "a6991ca7",
   "metadata": {
    "execution": {
     "iopub.execute_input": "2023-09-07T23:15:54.566999Z",
     "iopub.status.busy": "2023-09-07T23:15:54.566600Z",
     "iopub.status.idle": "2023-09-07T23:15:54.579918Z",
     "shell.execute_reply": "2023-09-07T23:15:54.578801Z"
    },
    "papermill": {
     "duration": 0.032008,
     "end_time": "2023-09-07T23:15:54.582178",
     "exception": false,
     "start_time": "2023-09-07T23:15:54.550170",
     "status": "completed"
    },
    "tags": []
   },
   "outputs": [
    {
     "data": {
      "text/html": [
       "<div>\n",
       "<style scoped>\n",
       "    .dataframe tbody tr th:only-of-type {\n",
       "        vertical-align: middle;\n",
       "    }\n",
       "\n",
       "    .dataframe tbody tr th {\n",
       "        vertical-align: top;\n",
       "    }\n",
       "\n",
       "    .dataframe thead th {\n",
       "        text-align: right;\n",
       "    }\n",
       "</style>\n",
       "<table border=\"1\" class=\"dataframe\">\n",
       "  <thead>\n",
       "    <tr style=\"text-align: right;\">\n",
       "      <th></th>\n",
       "      <th>pH</th>\n",
       "      <th>Temprature</th>\n",
       "      <th>Taste</th>\n",
       "      <th>Odor</th>\n",
       "      <th>Turbidity</th>\n",
       "      <th>Colour</th>\n",
       "    </tr>\n",
       "  </thead>\n",
       "  <tbody>\n",
       "    <tr>\n",
       "      <th>577</th>\n",
       "      <td>9.0</td>\n",
       "      <td>43</td>\n",
       "      <td>1</td>\n",
       "      <td>1</td>\n",
       "      <td>1</td>\n",
       "      <td>248</td>\n",
       "    </tr>\n",
       "    <tr>\n",
       "      <th>290</th>\n",
       "      <td>7.4</td>\n",
       "      <td>90</td>\n",
       "      <td>1</td>\n",
       "      <td>0</td>\n",
       "      <td>1</td>\n",
       "      <td>255</td>\n",
       "    </tr>\n",
       "    <tr>\n",
       "      <th>84</th>\n",
       "      <td>6.8</td>\n",
       "      <td>41</td>\n",
       "      <td>0</td>\n",
       "      <td>0</td>\n",
       "      <td>0</td>\n",
       "      <td>255</td>\n",
       "    </tr>\n",
       "    <tr>\n",
       "      <th>497</th>\n",
       "      <td>8.5</td>\n",
       "      <td>70</td>\n",
       "      <td>0</td>\n",
       "      <td>0</td>\n",
       "      <td>0</td>\n",
       "      <td>246</td>\n",
       "    </tr>\n",
       "    <tr>\n",
       "      <th>747</th>\n",
       "      <td>6.8</td>\n",
       "      <td>38</td>\n",
       "      <td>0</td>\n",
       "      <td>0</td>\n",
       "      <td>0</td>\n",
       "      <td>255</td>\n",
       "    </tr>\n",
       "  </tbody>\n",
       "</table>\n",
       "</div>"
      ],
      "text/plain": [
       "      pH  Temprature  Taste  Odor  Turbidity  Colour\n",
       "577  9.0          43      1     1          1     248\n",
       "290  7.4          90      1     0          1     255\n",
       "84   6.8          41      0     0          0     255\n",
       "497  8.5          70      0     0          0     246\n",
       "747  6.8          38      0     0          0     255"
      ]
     },
     "execution_count": 22,
     "metadata": {},
     "output_type": "execute_result"
    }
   ],
   "source": [
    "x_train,x_test,y_train,y_test = train_test_split(x,y,test_size=0.2)\n",
    "x_train.head()"
   ]
  },
  {
   "cell_type": "code",
   "execution_count": 23,
   "id": "4a8700b8",
   "metadata": {
    "execution": {
     "iopub.execute_input": "2023-09-07T23:15:54.614362Z",
     "iopub.status.busy": "2023-09-07T23:15:54.613981Z",
     "iopub.status.idle": "2023-09-07T23:15:54.621435Z",
     "shell.execute_reply": "2023-09-07T23:15:54.620006Z"
    },
    "papermill": {
     "duration": 0.026185,
     "end_time": "2023-09-07T23:15:54.623646",
     "exception": false,
     "start_time": "2023-09-07T23:15:54.597461",
     "status": "completed"
    },
    "tags": []
   },
   "outputs": [
    {
     "data": {
      "text/plain": [
       "577    1\n",
       "290    1\n",
       "84     2\n",
       "497    1\n",
       "747    2\n",
       "Name: Grade, dtype: int32"
      ]
     },
     "execution_count": 23,
     "metadata": {},
     "output_type": "execute_result"
    }
   ],
   "source": [
    "y_train.head()"
   ]
  },
  {
   "cell_type": "code",
   "execution_count": 24,
   "id": "5f2148e6",
   "metadata": {
    "execution": {
     "iopub.execute_input": "2023-09-07T23:15:54.656147Z",
     "iopub.status.busy": "2023-09-07T23:15:54.655692Z",
     "iopub.status.idle": "2023-09-07T23:15:54.667544Z",
     "shell.execute_reply": "2023-09-07T23:15:54.666456Z"
    },
    "papermill": {
     "duration": 0.031194,
     "end_time": "2023-09-07T23:15:54.670095",
     "exception": false,
     "start_time": "2023-09-07T23:15:54.638901",
     "status": "completed"
    },
    "tags": []
   },
   "outputs": [
    {
     "data": {
      "text/html": [
       "<div>\n",
       "<style scoped>\n",
       "    .dataframe tbody tr th:only-of-type {\n",
       "        vertical-align: middle;\n",
       "    }\n",
       "\n",
       "    .dataframe tbody tr th {\n",
       "        vertical-align: top;\n",
       "    }\n",
       "\n",
       "    .dataframe thead th {\n",
       "        text-align: right;\n",
       "    }\n",
       "</style>\n",
       "<table border=\"1\" class=\"dataframe\">\n",
       "  <thead>\n",
       "    <tr style=\"text-align: right;\">\n",
       "      <th></th>\n",
       "      <th>pH</th>\n",
       "      <th>Temprature</th>\n",
       "      <th>Taste</th>\n",
       "      <th>Odor</th>\n",
       "      <th>Turbidity</th>\n",
       "      <th>Colour</th>\n",
       "    </tr>\n",
       "  </thead>\n",
       "  <tbody>\n",
       "    <tr>\n",
       "      <th>344</th>\n",
       "      <td>6.7</td>\n",
       "      <td>38</td>\n",
       "      <td>1</td>\n",
       "      <td>0</td>\n",
       "      <td>0</td>\n",
       "      <td>255</td>\n",
       "    </tr>\n",
       "    <tr>\n",
       "      <th>802</th>\n",
       "      <td>6.6</td>\n",
       "      <td>45</td>\n",
       "      <td>0</td>\n",
       "      <td>1</td>\n",
       "      <td>1</td>\n",
       "      <td>250</td>\n",
       "    </tr>\n",
       "    <tr>\n",
       "      <th>103</th>\n",
       "      <td>6.7</td>\n",
       "      <td>45</td>\n",
       "      <td>1</td>\n",
       "      <td>1</td>\n",
       "      <td>0</td>\n",
       "      <td>245</td>\n",
       "    </tr>\n",
       "    <tr>\n",
       "      <th>445</th>\n",
       "      <td>6.8</td>\n",
       "      <td>36</td>\n",
       "      <td>0</td>\n",
       "      <td>1</td>\n",
       "      <td>0</td>\n",
       "      <td>253</td>\n",
       "    </tr>\n",
       "    <tr>\n",
       "      <th>34</th>\n",
       "      <td>6.7</td>\n",
       "      <td>50</td>\n",
       "      <td>1</td>\n",
       "      <td>1</td>\n",
       "      <td>0</td>\n",
       "      <td>245</td>\n",
       "    </tr>\n",
       "  </tbody>\n",
       "</table>\n",
       "</div>"
      ],
      "text/plain": [
       "      pH  Temprature  Taste  Odor  Turbidity  Colour\n",
       "344  6.7          38      1     0          0     255\n",
       "802  6.6          45      0     1          1     250\n",
       "103  6.7          45      1     1          0     245\n",
       "445  6.8          36      0     1          0     253\n",
       "34   6.7          50      1     1          0     245"
      ]
     },
     "execution_count": 24,
     "metadata": {},
     "output_type": "execute_result"
    }
   ],
   "source": [
    "x_test.head()"
   ]
  },
  {
   "cell_type": "code",
   "execution_count": 25,
   "id": "261baa78",
   "metadata": {
    "execution": {
     "iopub.execute_input": "2023-09-07T23:15:54.702739Z",
     "iopub.status.busy": "2023-09-07T23:15:54.702372Z",
     "iopub.status.idle": "2023-09-07T23:15:54.710479Z",
     "shell.execute_reply": "2023-09-07T23:15:54.709326Z"
    },
    "papermill": {
     "duration": 0.028422,
     "end_time": "2023-09-07T23:15:54.713993",
     "exception": false,
     "start_time": "2023-09-07T23:15:54.685571",
     "status": "completed"
    },
    "tags": []
   },
   "outputs": [
    {
     "data": {
      "text/plain": [
       "344    0\n",
       "802    0\n",
       "103    2\n",
       "445    0\n",
       "34     1\n",
       "Name: Grade, dtype: int32"
      ]
     },
     "execution_count": 25,
     "metadata": {},
     "output_type": "execute_result"
    }
   ],
   "source": [
    "y_test.head()"
   ]
  },
  {
   "cell_type": "markdown",
   "id": "86dc0be0",
   "metadata": {
    "papermill": {
     "duration": 0.01505,
     "end_time": "2023-09-07T23:15:54.744621",
     "exception": false,
     "start_time": "2023-09-07T23:15:54.729571",
     "status": "completed"
    },
    "tags": []
   },
   "source": [
    "# RandomForest Model #"
   ]
  },
  {
   "cell_type": "code",
   "execution_count": 26,
   "id": "5eab72ee",
   "metadata": {
    "execution": {
     "iopub.execute_input": "2023-09-07T23:15:54.777341Z",
     "iopub.status.busy": "2023-09-07T23:15:54.776958Z",
     "iopub.status.idle": "2023-09-07T23:15:55.183769Z",
     "shell.execute_reply": "2023-09-07T23:15:55.182673Z"
    },
    "papermill": {
     "duration": 0.425891,
     "end_time": "2023-09-07T23:15:55.186259",
     "exception": false,
     "start_time": "2023-09-07T23:15:54.760368",
     "status": "completed"
    },
    "tags": []
   },
   "outputs": [],
   "source": [
    "from sklearn.ensemble import RandomForestClassifier\n",
    "\n",
    "model =RandomForestClassifier()"
   ]
  },
  {
   "cell_type": "code",
   "execution_count": 27,
   "id": "699fbf48",
   "metadata": {
    "execution": {
     "iopub.execute_input": "2023-09-07T23:15:55.220692Z",
     "iopub.status.busy": "2023-09-07T23:15:55.220315Z",
     "iopub.status.idle": "2023-09-07T23:15:55.366673Z",
     "shell.execute_reply": "2023-09-07T23:15:55.365543Z"
    },
    "papermill": {
     "duration": 0.166715,
     "end_time": "2023-09-07T23:15:55.369344",
     "exception": false,
     "start_time": "2023-09-07T23:15:55.202629",
     "status": "completed"
    },
    "tags": []
   },
   "outputs": [
    {
     "data": {
      "text/html": [
       "<style>#sk-container-id-1 {color: black;background-color: white;}#sk-container-id-1 pre{padding: 0;}#sk-container-id-1 div.sk-toggleable {background-color: white;}#sk-container-id-1 label.sk-toggleable__label {cursor: pointer;display: block;width: 100%;margin-bottom: 0;padding: 0.3em;box-sizing: border-box;text-align: center;}#sk-container-id-1 label.sk-toggleable__label-arrow:before {content: \"▸\";float: left;margin-right: 0.25em;color: #696969;}#sk-container-id-1 label.sk-toggleable__label-arrow:hover:before {color: black;}#sk-container-id-1 div.sk-estimator:hover label.sk-toggleable__label-arrow:before {color: black;}#sk-container-id-1 div.sk-toggleable__content {max-height: 0;max-width: 0;overflow: hidden;text-align: left;background-color: #f0f8ff;}#sk-container-id-1 div.sk-toggleable__content pre {margin: 0.2em;color: black;border-radius: 0.25em;background-color: #f0f8ff;}#sk-container-id-1 input.sk-toggleable__control:checked~div.sk-toggleable__content {max-height: 200px;max-width: 100%;overflow: auto;}#sk-container-id-1 input.sk-toggleable__control:checked~label.sk-toggleable__label-arrow:before {content: \"▾\";}#sk-container-id-1 div.sk-estimator input.sk-toggleable__control:checked~label.sk-toggleable__label {background-color: #d4ebff;}#sk-container-id-1 div.sk-label input.sk-toggleable__control:checked~label.sk-toggleable__label {background-color: #d4ebff;}#sk-container-id-1 input.sk-hidden--visually {border: 0;clip: rect(1px 1px 1px 1px);clip: rect(1px, 1px, 1px, 1px);height: 1px;margin: -1px;overflow: hidden;padding: 0;position: absolute;width: 1px;}#sk-container-id-1 div.sk-estimator {font-family: monospace;background-color: #f0f8ff;border: 1px dotted black;border-radius: 0.25em;box-sizing: border-box;margin-bottom: 0.5em;}#sk-container-id-1 div.sk-estimator:hover {background-color: #d4ebff;}#sk-container-id-1 div.sk-parallel-item::after {content: \"\";width: 100%;border-bottom: 1px solid gray;flex-grow: 1;}#sk-container-id-1 div.sk-label:hover label.sk-toggleable__label {background-color: #d4ebff;}#sk-container-id-1 div.sk-serial::before {content: \"\";position: absolute;border-left: 1px solid gray;box-sizing: border-box;top: 0;bottom: 0;left: 50%;z-index: 0;}#sk-container-id-1 div.sk-serial {display: flex;flex-direction: column;align-items: center;background-color: white;padding-right: 0.2em;padding-left: 0.2em;position: relative;}#sk-container-id-1 div.sk-item {position: relative;z-index: 1;}#sk-container-id-1 div.sk-parallel {display: flex;align-items: stretch;justify-content: center;background-color: white;position: relative;}#sk-container-id-1 div.sk-item::before, #sk-container-id-1 div.sk-parallel-item::before {content: \"\";position: absolute;border-left: 1px solid gray;box-sizing: border-box;top: 0;bottom: 0;left: 50%;z-index: -1;}#sk-container-id-1 div.sk-parallel-item {display: flex;flex-direction: column;z-index: 1;position: relative;background-color: white;}#sk-container-id-1 div.sk-parallel-item:first-child::after {align-self: flex-end;width: 50%;}#sk-container-id-1 div.sk-parallel-item:last-child::after {align-self: flex-start;width: 50%;}#sk-container-id-1 div.sk-parallel-item:only-child::after {width: 0;}#sk-container-id-1 div.sk-dashed-wrapped {border: 1px dashed gray;margin: 0 0.4em 0.5em 0.4em;box-sizing: border-box;padding-bottom: 0.4em;background-color: white;}#sk-container-id-1 div.sk-label label {font-family: monospace;font-weight: bold;display: inline-block;line-height: 1.2em;}#sk-container-id-1 div.sk-label-container {text-align: center;}#sk-container-id-1 div.sk-container {/* jupyter's `normalize.less` sets `[hidden] { display: none; }` but bootstrap.min.css set `[hidden] { display: none !important; }` so we also need the `!important` here to be able to override the default hidden behavior on the sphinx rendered scikit-learn.org. See: https://github.com/scikit-learn/scikit-learn/issues/21755 */display: inline-block !important;position: relative;}#sk-container-id-1 div.sk-text-repr-fallback {display: none;}</style><div id=\"sk-container-id-1\" class=\"sk-top-container\"><div class=\"sk-text-repr-fallback\"><pre>RandomForestClassifier()</pre><b>In a Jupyter environment, please rerun this cell to show the HTML representation or trust the notebook. <br />On GitHub, the HTML representation is unable to render, please try loading this page with nbviewer.org.</b></div><div class=\"sk-container\" hidden><div class=\"sk-item\"><div class=\"sk-estimator sk-toggleable\"><input class=\"sk-toggleable__control sk-hidden--visually\" id=\"sk-estimator-id-1\" type=\"checkbox\" checked><label for=\"sk-estimator-id-1\" class=\"sk-toggleable__label sk-toggleable__label-arrow\">RandomForestClassifier</label><div class=\"sk-toggleable__content\"><pre>RandomForestClassifier()</pre></div></div></div></div></div>"
      ],
      "text/plain": [
       "RandomForestClassifier()"
      ]
     },
     "execution_count": 27,
     "metadata": {},
     "output_type": "execute_result"
    }
   ],
   "source": [
    "model.fit(x_train,y_train)"
   ]
  },
  {
   "cell_type": "code",
   "execution_count": 28,
   "id": "2b04ab88",
   "metadata": {
    "execution": {
     "iopub.execute_input": "2023-09-07T23:15:55.404197Z",
     "iopub.status.busy": "2023-09-07T23:15:55.403640Z",
     "iopub.status.idle": "2023-09-07T23:15:55.428204Z",
     "shell.execute_reply": "2023-09-07T23:15:55.427485Z"
    },
    "papermill": {
     "duration": 0.044383,
     "end_time": "2023-09-07T23:15:55.430241",
     "exception": false,
     "start_time": "2023-09-07T23:15:55.385858",
     "status": "completed"
    },
    "tags": []
   },
   "outputs": [
    {
     "data": {
      "text/plain": [
       "100.0"
      ]
     },
     "execution_count": 28,
     "metadata": {},
     "output_type": "execute_result"
    }
   ],
   "source": [
    "model.score(x_train,y_train)*100"
   ]
  },
  {
   "cell_type": "code",
   "execution_count": 29,
   "id": "bb7e23ce",
   "metadata": {
    "execution": {
     "iopub.execute_input": "2023-09-07T23:15:55.464749Z",
     "iopub.status.busy": "2023-09-07T23:15:55.463978Z",
     "iopub.status.idle": "2023-09-07T23:15:55.486996Z",
     "shell.execute_reply": "2023-09-07T23:15:55.485946Z"
    },
    "papermill": {
     "duration": 0.04341,
     "end_time": "2023-09-07T23:15:55.489512",
     "exception": false,
     "start_time": "2023-09-07T23:15:55.446102",
     "status": "completed"
    },
    "tags": []
   },
   "outputs": [
    {
     "data": {
      "text/plain": [
       "100.0"
      ]
     },
     "execution_count": 29,
     "metadata": {},
     "output_type": "execute_result"
    }
   ],
   "source": [
    "model.score(x_test,y_test)*100"
   ]
  },
  {
   "cell_type": "markdown",
   "id": "9e0ae5a4",
   "metadata": {
    "papermill": {
     "duration": 0.016033,
     "end_time": "2023-09-07T23:15:55.522385",
     "exception": false,
     "start_time": "2023-09-07T23:15:55.506352",
     "status": "completed"
    },
    "tags": []
   },
   "source": [
    "# KNeighbors Model #"
   ]
  },
  {
   "cell_type": "code",
   "execution_count": 30,
   "id": "3ef79bbf",
   "metadata": {
    "execution": {
     "iopub.execute_input": "2023-09-07T23:15:55.556849Z",
     "iopub.status.busy": "2023-09-07T23:15:55.556198Z",
     "iopub.status.idle": "2023-09-07T23:15:55.561861Z",
     "shell.execute_reply": "2023-09-07T23:15:55.560416Z"
    },
    "papermill": {
     "duration": 0.025745,
     "end_time": "2023-09-07T23:15:55.564401",
     "exception": false,
     "start_time": "2023-09-07T23:15:55.538656",
     "status": "completed"
    },
    "tags": []
   },
   "outputs": [],
   "source": [
    "from sklearn.neighbors import KNeighborsClassifier\n",
    "model = KNeighborsClassifier()"
   ]
  },
  {
   "cell_type": "code",
   "execution_count": 31,
   "id": "f571a2e7",
   "metadata": {
    "execution": {
     "iopub.execute_input": "2023-09-07T23:15:55.597419Z",
     "iopub.status.busy": "2023-09-07T23:15:55.597031Z",
     "iopub.status.idle": "2023-09-07T23:15:55.607886Z",
     "shell.execute_reply": "2023-09-07T23:15:55.606910Z"
    },
    "papermill": {
     "duration": 0.030514,
     "end_time": "2023-09-07T23:15:55.610476",
     "exception": false,
     "start_time": "2023-09-07T23:15:55.579962",
     "status": "completed"
    },
    "tags": []
   },
   "outputs": [
    {
     "data": {
      "text/html": [
       "<style>#sk-container-id-2 {color: black;background-color: white;}#sk-container-id-2 pre{padding: 0;}#sk-container-id-2 div.sk-toggleable {background-color: white;}#sk-container-id-2 label.sk-toggleable__label {cursor: pointer;display: block;width: 100%;margin-bottom: 0;padding: 0.3em;box-sizing: border-box;text-align: center;}#sk-container-id-2 label.sk-toggleable__label-arrow:before {content: \"▸\";float: left;margin-right: 0.25em;color: #696969;}#sk-container-id-2 label.sk-toggleable__label-arrow:hover:before {color: black;}#sk-container-id-2 div.sk-estimator:hover label.sk-toggleable__label-arrow:before {color: black;}#sk-container-id-2 div.sk-toggleable__content {max-height: 0;max-width: 0;overflow: hidden;text-align: left;background-color: #f0f8ff;}#sk-container-id-2 div.sk-toggleable__content pre {margin: 0.2em;color: black;border-radius: 0.25em;background-color: #f0f8ff;}#sk-container-id-2 input.sk-toggleable__control:checked~div.sk-toggleable__content {max-height: 200px;max-width: 100%;overflow: auto;}#sk-container-id-2 input.sk-toggleable__control:checked~label.sk-toggleable__label-arrow:before {content: \"▾\";}#sk-container-id-2 div.sk-estimator input.sk-toggleable__control:checked~label.sk-toggleable__label {background-color: #d4ebff;}#sk-container-id-2 div.sk-label input.sk-toggleable__control:checked~label.sk-toggleable__label {background-color: #d4ebff;}#sk-container-id-2 input.sk-hidden--visually {border: 0;clip: rect(1px 1px 1px 1px);clip: rect(1px, 1px, 1px, 1px);height: 1px;margin: -1px;overflow: hidden;padding: 0;position: absolute;width: 1px;}#sk-container-id-2 div.sk-estimator {font-family: monospace;background-color: #f0f8ff;border: 1px dotted black;border-radius: 0.25em;box-sizing: border-box;margin-bottom: 0.5em;}#sk-container-id-2 div.sk-estimator:hover {background-color: #d4ebff;}#sk-container-id-2 div.sk-parallel-item::after {content: \"\";width: 100%;border-bottom: 1px solid gray;flex-grow: 1;}#sk-container-id-2 div.sk-label:hover label.sk-toggleable__label {background-color: #d4ebff;}#sk-container-id-2 div.sk-serial::before {content: \"\";position: absolute;border-left: 1px solid gray;box-sizing: border-box;top: 0;bottom: 0;left: 50%;z-index: 0;}#sk-container-id-2 div.sk-serial {display: flex;flex-direction: column;align-items: center;background-color: white;padding-right: 0.2em;padding-left: 0.2em;position: relative;}#sk-container-id-2 div.sk-item {position: relative;z-index: 1;}#sk-container-id-2 div.sk-parallel {display: flex;align-items: stretch;justify-content: center;background-color: white;position: relative;}#sk-container-id-2 div.sk-item::before, #sk-container-id-2 div.sk-parallel-item::before {content: \"\";position: absolute;border-left: 1px solid gray;box-sizing: border-box;top: 0;bottom: 0;left: 50%;z-index: -1;}#sk-container-id-2 div.sk-parallel-item {display: flex;flex-direction: column;z-index: 1;position: relative;background-color: white;}#sk-container-id-2 div.sk-parallel-item:first-child::after {align-self: flex-end;width: 50%;}#sk-container-id-2 div.sk-parallel-item:last-child::after {align-self: flex-start;width: 50%;}#sk-container-id-2 div.sk-parallel-item:only-child::after {width: 0;}#sk-container-id-2 div.sk-dashed-wrapped {border: 1px dashed gray;margin: 0 0.4em 0.5em 0.4em;box-sizing: border-box;padding-bottom: 0.4em;background-color: white;}#sk-container-id-2 div.sk-label label {font-family: monospace;font-weight: bold;display: inline-block;line-height: 1.2em;}#sk-container-id-2 div.sk-label-container {text-align: center;}#sk-container-id-2 div.sk-container {/* jupyter's `normalize.less` sets `[hidden] { display: none; }` but bootstrap.min.css set `[hidden] { display: none !important; }` so we also need the `!important` here to be able to override the default hidden behavior on the sphinx rendered scikit-learn.org. See: https://github.com/scikit-learn/scikit-learn/issues/21755 */display: inline-block !important;position: relative;}#sk-container-id-2 div.sk-text-repr-fallback {display: none;}</style><div id=\"sk-container-id-2\" class=\"sk-top-container\"><div class=\"sk-text-repr-fallback\"><pre>KNeighborsClassifier()</pre><b>In a Jupyter environment, please rerun this cell to show the HTML representation or trust the notebook. <br />On GitHub, the HTML representation is unable to render, please try loading this page with nbviewer.org.</b></div><div class=\"sk-container\" hidden><div class=\"sk-item\"><div class=\"sk-estimator sk-toggleable\"><input class=\"sk-toggleable__control sk-hidden--visually\" id=\"sk-estimator-id-2\" type=\"checkbox\" checked><label for=\"sk-estimator-id-2\" class=\"sk-toggleable__label sk-toggleable__label-arrow\">KNeighborsClassifier</label><div class=\"sk-toggleable__content\"><pre>KNeighborsClassifier()</pre></div></div></div></div></div>"
      ],
      "text/plain": [
       "KNeighborsClassifier()"
      ]
     },
     "execution_count": 31,
     "metadata": {},
     "output_type": "execute_result"
    }
   ],
   "source": [
    "model.fit(x_train,y_train)"
   ]
  },
  {
   "cell_type": "code",
   "execution_count": 32,
   "id": "9b34b085",
   "metadata": {
    "execution": {
     "iopub.execute_input": "2023-09-07T23:15:55.644385Z",
     "iopub.status.busy": "2023-09-07T23:15:55.643719Z",
     "iopub.status.idle": "2023-09-07T23:15:55.669279Z",
     "shell.execute_reply": "2023-09-07T23:15:55.668513Z"
    },
    "papermill": {
     "duration": 0.045108,
     "end_time": "2023-09-07T23:15:55.671709",
     "exception": false,
     "start_time": "2023-09-07T23:15:55.626601",
     "status": "completed"
    },
    "tags": []
   },
   "outputs": [
    {
     "data": {
      "text/plain": [
       "98.93742621015348"
      ]
     },
     "execution_count": 32,
     "metadata": {},
     "output_type": "execute_result"
    }
   ],
   "source": [
    "model.score(x_train,y_train)*100"
   ]
  },
  {
   "cell_type": "code",
   "execution_count": 33,
   "id": "1a3e804f",
   "metadata": {
    "execution": {
     "iopub.execute_input": "2023-09-07T23:15:55.707723Z",
     "iopub.status.busy": "2023-09-07T23:15:55.707061Z",
     "iopub.status.idle": "2023-09-07T23:15:55.720191Z",
     "shell.execute_reply": "2023-09-07T23:15:55.719421Z"
    },
    "papermill": {
     "duration": 0.033656,
     "end_time": "2023-09-07T23:15:55.722421",
     "exception": false,
     "start_time": "2023-09-07T23:15:55.688765",
     "status": "completed"
    },
    "tags": []
   },
   "outputs": [
    {
     "data": {
      "text/plain": [
       "100.0"
      ]
     },
     "execution_count": 33,
     "metadata": {},
     "output_type": "execute_result"
    }
   ],
   "source": [
    "model.score(x_test,y_test)*100"
   ]
  },
  {
   "cell_type": "markdown",
   "id": "7467e1d4",
   "metadata": {},
   "source": [
    "#### Saved Model"
   ]
  },
  {
   "cell_type": "code",
   "execution_count": 35,
   "id": "32a5b780",
   "metadata": {},
   "outputs": [],
   "source": [
    "import pickle\n",
    "\n",
    "pickle_out = open(\"model_milk.pkl\",\"wb\")\n",
    "\n",
    "pickle.dump(model, pickle_out)\n",
    "\n",
    "pickle_out.close()"
   ]
  },
  {
   "cell_type": "markdown",
   "id": "ab20eefa",
   "metadata": {
    "papermill": {
     "duration": 0.01594,
     "end_time": "2023-09-07T23:15:55.755688",
     "exception": false,
     "start_time": "2023-09-07T23:15:55.739748",
     "status": "completed"
    },
    "tags": []
   },
   "source": [
    "# Thank You #"
   ]
  }
 ],
 "metadata": {
  "kernelspec": {
   "display_name": "Python 3 (ipykernel)",
   "language": "python",
   "name": "python3"
  },
  "language_info": {
   "codemirror_mode": {
    "name": "ipython",
    "version": 3
   },
   "file_extension": ".py",
   "mimetype": "text/x-python",
   "name": "python",
   "nbconvert_exporter": "python",
   "pygments_lexer": "ipython3",
   "version": "3.11.3"
  },
  "papermill": {
   "default_parameters": {},
   "duration": 25.425217,
   "end_time": "2023-09-07T23:15:56.795878",
   "environment_variables": {},
   "exception": null,
   "input_path": "__notebook__.ipynb",
   "output_path": "__notebook__.ipynb",
   "parameters": {},
   "start_time": "2023-09-07T23:15:31.370661",
   "version": "2.4.0"
  }
 },
 "nbformat": 4,
 "nbformat_minor": 5
}
